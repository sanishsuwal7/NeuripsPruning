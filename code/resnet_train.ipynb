{
 "cells": [
  {
   "cell_type": "code",
   "execution_count": 11,
   "id": "fe94c1d0-371e-493a-bf0c-ca2c463809bd",
   "metadata": {},
   "outputs": [],
   "source": [
    "import os\n",
    "from ranger import Ranger\n",
    "\n",
    "import torch\n",
    "from torch import nn\n",
    "import torch.nn as nn\n",
    "import torch.nn.functional as F\n",
    "from torch.utils.data import DataLoader\n",
    "import torch.nn.utils.prune as prune\n",
    "\n",
    "import torchvision\n",
    "from torchvision import datasets\n",
    "from torchvision import transforms\n",
    "from torchvision.transforms import Normalize\n",
    "from torchmetrics import Accuracy\n",
    "\n",
    "import torch.optim as optim\n",
    "from cleverhans.torch.attacks.projected_gradient_descent import (projected_gradient_descent)\n",
    "\n",
    "import quantus\n",
    "import captum\n",
    "from captum.attr import Saliency, IntegratedGradients, NoiseTunnel\n",
    "\n",
    "import pandas as pd\n",
    "import numpy as np\n",
    "import matplotlib.pyplot as plt\n",
    "\n",
    "import random\n",
    "import copy\n",
    "import gc\n",
    "\n",
    "import warnings\n",
    "warnings.filterwarnings('ignore')"
   ]
  },
  {
   "cell_type": "code",
   "execution_count": 12,
   "id": "7e2308c1-3c06-44c5-9825-91911739fb8a",
   "metadata": {
    "editable": true,
    "slideshow": {
     "slide_type": ""
    },
    "tags": []
   },
   "outputs": [
    {
     "name": "stdout",
     "output_type": "stream",
     "text": [
      "True\n"
     ]
    }
   ],
   "source": [
    "print(torch.cuda.is_available())"
   ]
  },
  {
   "cell_type": "code",
   "execution_count": 13,
   "id": "169398eb-6d05-4c7c-ae9d-4e87c5b48712",
   "metadata": {},
   "outputs": [],
   "source": [
    "device = torch.device(\"cuda\" if torch.cuda.is_available() else \"cpu\")"
   ]
  },
  {
   "cell_type": "code",
   "execution_count": 14,
   "id": "5044d554-fd31-4a20-a6b8-a917e684a4c2",
   "metadata": {},
   "outputs": [],
   "source": [
    "batch_size = 64\n",
    "epochs = 100\n",
    "train_path = '../datasets/imagenette2/train'\n",
    "val_path = '../datasets/imagenette2/val'\n"
   ]
  },
  {
   "cell_type": "code",
   "execution_count": 15,
   "id": "86b1a0d1-f58e-4200-bf2d-7a1b1923d2ff",
   "metadata": {},
   "outputs": [],
   "source": [
    "train_dataloader = DataLoader(datasets.ImageFolder(train_path, transform = transforms.Compose([\n",
    "                                                                    transforms.RandomResizedCrop(224),\n",
    "                                                                    transforms.RandomHorizontalFlip(),\n",
    "                                                                    transforms.ToTensor(),\n",
    "                                                                    transforms.Normalize(mean=[0.485, 0.456, 0.406],\n",
    "                                                                                        std=[0.229, 0.224, 0.225])\n",
    "                                                            ])), batch_size = batch_size, shuffle=True)\n",
    "\n",
    "test_dataloader = DataLoader(datasets.ImageFolder(val_path,\n",
    "                                                               transform=transforms.Compose([\n",
    "                                                                   transforms.ToTensor(),\n",
    "                                                                   transforms.Resize([224, 224]),\n",
    "                                                                   transforms.Normalize(mean=[0.485, 0.456, 0.406],\n",
    "                                                                                        std=[0.229, 0.224, 0.225])\n",
    "                                                               ])),batch_size=batch_size, shuffle=True)"
   ]
  },
  {
   "cell_type": "code",
   "execution_count": 16,
   "id": "cf445c11-76aa-4830-8c51-96775054cf3f",
   "metadata": {},
   "outputs": [],
   "source": [
    "classes = ('tench', 'springer', 'casette_player', 'chain_saw','church', 'French_horn', 'garbage_truck', 'gas_pump', 'golf_ball', 'parachute')\n"
   ]
  },
  {
   "cell_type": "code",
   "execution_count": 17,
   "id": "e06e27a4-bfb9-460f-b6e2-368f35464347",
   "metadata": {},
   "outputs": [],
   "source": [
    "%run models.ipynb\n",
    "%run utils.ipynb"
   ]
  },
  {
   "cell_type": "code",
   "execution_count": 18,
   "id": "27b909e1-50f5-4ec5-b5bc-06e55159aebb",
   "metadata": {},
   "outputs": [
    {
     "name": "stdout",
     "output_type": "stream",
     "text": [
      "Ranger optimizer loaded. \n",
      "Gradient Centralization usage = True\n",
      "GC applied to both conv and fc layers\n",
      "cuda\n"
     ]
    }
   ],
   "source": [
    "model_normal = resnet18_features(pretrained=False, filter='None', filter_layer=0)\n",
    "learning_rate = 1e-4\n",
    "criterion = nn.CrossEntropyLoss(reduction=\"mean\").cuda()\n",
    "optimizer = Ranger(model_normal.parameters(), lr = learning_rate, weight_decay=1e-2, eps = 1e-06)\n",
    "print(device)"
   ]
  },
  {
   "cell_type": "code",
   "execution_count": 19,
   "id": "673a1b8b-afb6-450c-b39d-013aeaf367ad",
   "metadata": {},
   "outputs": [],
   "source": [
    "def train_model(model, epochs):\n",
    "    model.train()\n",
    "    for epoch in range(epochs):\n",
    "        for x_batch, y_batch in train_dataloader:\n",
    "            x_batch, y_batch = x_batch.to(device), y_batch.to(device)\n",
    "            optimizer.zero_grad()\n",
    "            output = model(x_batch)\n",
    "            loss = criterion(output, y_batch)\n",
    "            loss.backward()\n",
    "            optimizer.step()\n",
    "\n",
    "        # Evaluate model!\n",
    "        if epochs%10==0:\n",
    "            predictions, labels = evaluate_model(model, test_dataloader, device)\n",
    "            test_acc = np.mean(np.argmax(predictions.cpu().numpy(), axis=1) == labels.cpu().numpy())\n",
    "            print(f\"Epoch {epoch+1}/{epochs} - test accuracy: {(100 * test_acc):.2f}% and CE loss {loss.item():.2f}\")\n",
    "    return model"
   ]
  },
  {
   "cell_type": "code",
   "execution_count": 20,
   "id": "351125ac-31da-4ff3-9966-8e9df97c9b81",
   "metadata": {},
   "outputs": [
    {
     "name": "stdout",
     "output_type": "stream",
     "text": [
      "Epoch 1/100 - test accuracy: 31.97% and CE loss 1.86\n",
      "Epoch 2/100 - test accuracy: 48.36% and CE loss 1.46\n",
      "Epoch 3/100 - test accuracy: 55.90% and CE loss 1.25\n",
      "Epoch 4/100 - test accuracy: 59.41% and CE loss 1.27\n",
      "Epoch 5/100 - test accuracy: 62.24% and CE loss 1.18\n",
      "Epoch 6/100 - test accuracy: 65.68% and CE loss 1.02\n",
      "Epoch 7/100 - test accuracy: 64.94% and CE loss 0.92\n",
      "Epoch 8/100 - test accuracy: 67.16% and CE loss 0.96\n",
      "Epoch 9/100 - test accuracy: 69.35% and CE loss 1.16\n",
      "Epoch 10/100 - test accuracy: 69.20% and CE loss 1.16\n",
      "Epoch 11/100 - test accuracy: 70.17% and CE loss 0.82\n",
      "Epoch 12/100 - test accuracy: 71.64% and CE loss 1.07\n",
      "Epoch 13/100 - test accuracy: 71.85% and CE loss 0.84\n",
      "Epoch 14/100 - test accuracy: 71.67% and CE loss 0.90\n",
      "Epoch 15/100 - test accuracy: 74.14% and CE loss 0.96\n",
      "Epoch 16/100 - test accuracy: 73.12% and CE loss 0.74\n",
      "Epoch 17/100 - test accuracy: 74.32% and CE loss 1.05\n",
      "Epoch 18/100 - test accuracy: 75.64% and CE loss 0.69\n",
      "Epoch 19/100 - test accuracy: 74.85% and CE loss 1.12\n",
      "Epoch 20/100 - test accuracy: 76.13% and CE loss 0.60\n",
      "Epoch 21/100 - test accuracy: 76.38% and CE loss 0.48\n",
      "Epoch 22/100 - test accuracy: 75.97% and CE loss 0.73\n",
      "Epoch 23/100 - test accuracy: 76.92% and CE loss 0.68\n",
      "Epoch 24/100 - test accuracy: 76.69% and CE loss 0.80\n",
      "Epoch 25/100 - test accuracy: 75.97% and CE loss 0.62\n",
      "Epoch 26/100 - test accuracy: 77.04% and CE loss 0.71\n",
      "Epoch 27/100 - test accuracy: 76.13% and CE loss 0.54\n",
      "Epoch 28/100 - test accuracy: 77.38% and CE loss 0.53\n",
      "Epoch 29/100 - test accuracy: 77.45% and CE loss 0.32\n",
      "Epoch 30/100 - test accuracy: 78.27% and CE loss 0.65\n",
      "Epoch 31/100 - test accuracy: 76.48% and CE loss 0.50\n",
      "Epoch 32/100 - test accuracy: 78.96% and CE loss 0.54\n",
      "Epoch 33/100 - test accuracy: 78.80% and CE loss 0.49\n",
      "Epoch 34/100 - test accuracy: 77.66% and CE loss 0.47\n",
      "Epoch 35/100 - test accuracy: 78.14% and CE loss 0.36\n",
      "Epoch 36/100 - test accuracy: 78.90% and CE loss 0.59\n",
      "Epoch 37/100 - test accuracy: 78.70% and CE loss 0.48\n",
      "Epoch 38/100 - test accuracy: 79.62% and CE loss 0.51\n",
      "Epoch 39/100 - test accuracy: 78.17% and CE loss 0.66\n",
      "Epoch 40/100 - test accuracy: 79.75% and CE loss 0.49\n",
      "Epoch 41/100 - test accuracy: 79.72% and CE loss 0.49\n",
      "Epoch 42/100 - test accuracy: 79.62% and CE loss 0.44\n",
      "Epoch 43/100 - test accuracy: 79.24% and CE loss 0.61\n",
      "Epoch 44/100 - test accuracy: 80.23% and CE loss 0.46\n",
      "Epoch 45/100 - test accuracy: 80.54% and CE loss 0.25\n",
      "Epoch 46/100 - test accuracy: 79.16% and CE loss 0.36\n",
      "Epoch 47/100 - test accuracy: 80.64% and CE loss 0.52\n",
      "Epoch 48/100 - test accuracy: 80.33% and CE loss 0.42\n",
      "Epoch 49/100 - test accuracy: 80.94% and CE loss 0.37\n",
      "Epoch 50/100 - test accuracy: 79.52% and CE loss 0.53\n",
      "Epoch 51/100 - test accuracy: 80.51% and CE loss 0.41\n",
      "Epoch 52/100 - test accuracy: 80.20% and CE loss 0.60\n",
      "Epoch 53/100 - test accuracy: 80.20% and CE loss 0.38\n",
      "Epoch 54/100 - test accuracy: 81.07% and CE loss 0.72\n",
      "Epoch 55/100 - test accuracy: 79.06% and CE loss 0.45\n",
      "Epoch 56/100 - test accuracy: 81.02% and CE loss 0.20\n",
      "Epoch 57/100 - test accuracy: 80.23% and CE loss 0.23\n",
      "Epoch 58/100 - test accuracy: 80.84% and CE loss 0.61\n",
      "Epoch 59/100 - test accuracy: 81.10% and CE loss 0.23\n",
      "Epoch 60/100 - test accuracy: 81.63% and CE loss 0.26\n",
      "Epoch 61/100 - test accuracy: 80.69% and CE loss 0.52\n",
      "Epoch 62/100 - test accuracy: 81.20% and CE loss 0.53\n",
      "Epoch 63/100 - test accuracy: 80.99% and CE loss 0.46\n",
      "Epoch 64/100 - test accuracy: 80.08% and CE loss 0.19\n",
      "Epoch 65/100 - test accuracy: 80.10% and CE loss 0.24\n",
      "Epoch 66/100 - test accuracy: 80.15% and CE loss 0.41\n",
      "Epoch 67/100 - test accuracy: 80.89% and CE loss 0.65\n",
      "Epoch 68/100 - test accuracy: 80.56% and CE loss 0.51\n",
      "Epoch 69/100 - test accuracy: 80.08% and CE loss 0.33\n",
      "Epoch 70/100 - test accuracy: 80.23% and CE loss 0.46\n",
      "Epoch 71/100 - test accuracy: 79.69% and CE loss 0.17\n",
      "Epoch 72/100 - test accuracy: 80.99% and CE loss 0.20\n",
      "Epoch 73/100 - test accuracy: 81.20% and CE loss 0.36\n",
      "Epoch 74/100 - test accuracy: 80.99% and CE loss 0.39\n",
      "Epoch 75/100 - test accuracy: 81.61% and CE loss 0.30\n",
      "Epoch 76/100 - test accuracy: 80.76% and CE loss 0.34\n",
      "Epoch 77/100 - test accuracy: 81.66% and CE loss 0.31\n",
      "Epoch 78/100 - test accuracy: 81.71% and CE loss 0.42\n",
      "Epoch 79/100 - test accuracy: 81.17% and CE loss 0.16\n",
      "Epoch 80/100 - test accuracy: 81.17% and CE loss 0.43\n",
      "Epoch 81/100 - test accuracy: 81.53% and CE loss 0.25\n",
      "Epoch 82/100 - test accuracy: 81.78% and CE loss 0.35\n",
      "Epoch 83/100 - test accuracy: 82.52% and CE loss 0.16\n",
      "Epoch 84/100 - test accuracy: 81.68% and CE loss 0.32\n",
      "Epoch 85/100 - test accuracy: 80.71% and CE loss 0.18\n",
      "Epoch 86/100 - test accuracy: 81.43% and CE loss 0.20\n",
      "Epoch 87/100 - test accuracy: 81.96% and CE loss 0.32\n",
      "Epoch 88/100 - test accuracy: 82.06% and CE loss 0.31\n",
      "Epoch 89/100 - test accuracy: 81.02% and CE loss 0.20\n",
      "Epoch 90/100 - test accuracy: 82.09% and CE loss 0.33\n",
      "Epoch 91/100 - test accuracy: 81.43% and CE loss 0.48\n",
      "Epoch 92/100 - test accuracy: 81.61% and CE loss 0.37\n",
      "Epoch 93/100 - test accuracy: 80.97% and CE loss 0.41\n",
      "Epoch 94/100 - test accuracy: 80.56% and CE loss 0.65\n",
      "Epoch 95/100 - test accuracy: 82.22% and CE loss 0.35\n",
      "Epoch 96/100 - test accuracy: 82.32% and CE loss 0.14\n",
      "Epoch 97/100 - test accuracy: 80.15% and CE loss 0.30\n",
      "Epoch 98/100 - test accuracy: 81.17% and CE loss 0.12\n",
      "Epoch 99/100 - test accuracy: 81.91% and CE loss 0.50\n",
      "Epoch 100/100 - test accuracy: 82.78% and CE loss 0.16\n"
     ]
    }
   ],
   "source": [
    "model_normal = train_model(model = model_normal.to(device), epochs = epochs)"
   ]
  },
  {
   "cell_type": "code",
   "execution_count": 21,
   "id": "0277439d-86d1-4a35-a08f-a927f1573b60",
   "metadata": {},
   "outputs": [
    {
     "name": "stdout",
     "output_type": "stream",
     "text": [
      "Model test accuracy: 82.78%\n"
     ]
    }
   ],
   "source": [
    "# Model to GPU and eval mode.\n",
    "model_normal.to(device)\n",
    "model_normal.eval()\n",
    "\n",
    "# Check test set performance.\n",
    "predictions, labels = evaluate_model(model_normal, test_dataloader, device)\n",
    "test_acc = np.mean(np.argmax(predictions.cpu().numpy(), axis=1) == labels.cpu().numpy())        \n",
    "print(f\"Model test accuracy: {(100 * test_acc):.2f}%\")"
   ]
  },
  {
   "cell_type": "code",
   "execution_count": 22,
   "id": "cc102184-47c1-4374-be78-1897dafecd8f",
   "metadata": {},
   "outputs": [
    {
     "name": "stdout",
     "output_type": "stream",
     "text": [
      "Saving the model: ..\\models\\resnet_imagenette.pth\n"
     ]
    }
   ],
   "source": [
    "from pathlib import Path\n",
    "\n",
    "MODEL_PATH = Path(\"../models\")\n",
    "MODEL_PATH.mkdir(parents=True, exist_ok=True)\n",
    "\n",
    "MODEL_NAME = \"resnet_imagenette.pth\"\n",
    "MODEL_SAVE_PATH = MODEL_PATH / MODEL_NAME\n",
    "\n",
    "print(f\"Saving the model: {MODEL_SAVE_PATH}\")\n",
    "torch.save(obj=model_normal.state_dict(), f=MODEL_SAVE_PATH)"
   ]
  },
  {
   "cell_type": "code",
   "execution_count": null,
   "id": "fa6dd9d7-b920-4478-9390-866361d3b4f2",
   "metadata": {},
   "outputs": [],
   "source": []
  }
 ],
 "metadata": {
  "kernelspec": {
   "display_name": "Python 3 (ipykernel)",
   "language": "python",
   "name": "python3"
  },
  "language_info": {
   "codemirror_mode": {
    "name": "ipython",
    "version": 3
   },
   "file_extension": ".py",
   "mimetype": "text/x-python",
   "name": "python",
   "nbconvert_exporter": "python",
   "pygments_lexer": "ipython3",
   "version": "3.13.5"
  }
 },
 "nbformat": 4,
 "nbformat_minor": 5
}
