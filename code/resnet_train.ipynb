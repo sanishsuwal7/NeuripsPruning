{
 "cells": [
  {
   "cell_type": "code",
   "execution_count": 1,
   "id": "fe94c1d0-371e-493a-bf0c-ca2c463809bd",
   "metadata": {},
   "outputs": [],
   "source": [
    "import os\n",
    "from ranger import Ranger\n",
    "\n",
    "import torch\n",
    "from torch import nn\n",
    "import torch.nn as nn\n",
    "import torch.nn.functional as F\n",
    "from torch.utils.data import DataLoader\n",
    "import torch.nn.utils.prune as prune\n",
    "\n",
    "import torchvision\n",
    "from torchvision import datasets\n",
    "from torchvision import transforms\n",
    "from torchvision.transforms import Normalize\n",
    "from torchmetrics import Accuracy\n",
    "\n",
    "import torch.optim as optim\n",
    "from cleverhans.torch.attacks.projected_gradient_descent import (projected_gradient_descent)\n",
    "\n",
    "import quantus\n",
    "import captum\n",
    "from captum.attr import Saliency, IntegratedGradients, NoiseTunnel\n",
    "\n",
    "import pandas as pd\n",
    "import numpy as np\n",
    "import matplotlib.pyplot as plt\n",
    "\n",
    "import random\n",
    "import copy\n",
    "import gc\n",
    "\n",
    "import warnings\n",
    "warnings.filterwarnings('ignore')"
   ]
  },
  {
   "cell_type": "code",
   "execution_count": 2,
   "id": "7e2308c1-3c06-44c5-9825-91911739fb8a",
   "metadata": {
    "editable": true,
    "slideshow": {
     "slide_type": ""
    },
    "tags": []
   },
   "outputs": [
    {
     "name": "stdout",
     "output_type": "stream",
     "text": [
      "True\n"
     ]
    }
   ],
   "source": [
    "print(torch.cuda.is_available())"
   ]
  },
  {
   "cell_type": "code",
   "execution_count": 3,
   "id": "169398eb-6d05-4c7c-ae9d-4e87c5b48712",
   "metadata": {},
   "outputs": [],
   "source": [
    "device = torch.device(\"cuda\" if torch.cuda.is_available() else \"cpu\")"
   ]
  },
  {
   "cell_type": "code",
   "execution_count": 9,
   "id": "5044d554-fd31-4a20-a6b8-a917e684a4c2",
   "metadata": {},
   "outputs": [],
   "source": [
    "batch_size = 8\n",
    "epochs = 100\n",
    "train_path = '../datasets/imagenette2/train'\n",
    "val_path = '../datasets/imagenette2/val'\n"
   ]
  },
  {
   "cell_type": "code",
   "execution_count": 10,
   "id": "86b1a0d1-f58e-4200-bf2d-7a1b1923d2ff",
   "metadata": {},
   "outputs": [],
   "source": [
    "train_dataloader = DataLoader(datasets.ImageFolder(train_path, transform = transforms.Compose([\n",
    "                                                                    transforms.RandomResizedCrop(224),\n",
    "                                                                    transforms.RandomHorizontalFlip(),\n",
    "                                                                    transforms.ToTensor(),\n",
    "                                                                    transforms.Normalize(mean=[0.485, 0.456, 0.406],\n",
    "                                                                                        std=[0.229, 0.224, 0.225])\n",
    "                                                            ])), batch_size = batch_size, shuffle=True)\n",
    "\n",
    "test_dataloader = DataLoader(datasets.ImageFolder(val_path,\n",
    "                                                               transform=transforms.Compose([\n",
    "                                                                   transforms.ToTensor(),\n",
    "                                                                   transforms.Resize([224, 224]),\n",
    "                                                                   transforms.Normalize(mean=[0.485, 0.456, 0.406],\n",
    "                                                                                        std=[0.229, 0.224, 0.225])\n",
    "                                                               ])),batch_size=batch_size, shuffle=True)"
   ]
  },
  {
   "cell_type": "code",
   "execution_count": 11,
   "id": "cf445c11-76aa-4830-8c51-96775054cf3f",
   "metadata": {},
   "outputs": [],
   "source": [
    "classes = ('tench', 'springer', 'casette_player', 'chain_saw','church', 'French_horn', 'garbage_truck', 'gas_pump', 'golf_ball', 'parachute')\n"
   ]
  },
  {
   "cell_type": "code",
   "execution_count": 13,
   "id": "e06e27a4-bfb9-460f-b6e2-368f35464347",
   "metadata": {},
   "outputs": [],
   "source": [
    "%run models.ipynb\n",
    "%run utils.ipynb"
   ]
  },
  {
   "cell_type": "code",
   "execution_count": 16,
   "id": "27b909e1-50f5-4ec5-b5bc-06e55159aebb",
   "metadata": {},
   "outputs": [
    {
     "name": "stdout",
     "output_type": "stream",
     "text": [
      "Ranger optimizer loaded. \n",
      "Gradient Centralization usage = True\n",
      "GC applied to both conv and fc layers\n",
      "cuda\n"
     ]
    }
   ],
   "source": [
    "model_normal = resnet18_features(pretrained=False, filter='None', filter_layer=0)\n",
    "learning_rate = 1e-04\n",
    "criterion = nn.CrossEntropyLoss(reduction=\"mean\").cuda()\n",
    "optimizer = Ranger(model_normal.parameters(), lr = learning_rate, eps = 1e-06)\n",
    "print(device)"
   ]
  },
  {
   "cell_type": "code",
   "execution_count": 17,
   "id": "673a1b8b-afb6-450c-b39d-013aeaf367ad",
   "metadata": {},
   "outputs": [],
   "source": [
    "def train_model(model, epochs):\n",
    "    model.train()\n",
    "    for epoch in range(epochs):\n",
    "        for x_batch, y_batch in train_dataloader:\n",
    "            x_batch, y_batch = x_batch.to(device), y_batch.to(device)\n",
    "            optimizer.zero_grad()\n",
    "            output = model(x_batch)\n",
    "            loss = criterion(output, y_batch)\n",
    "            loss.backward()\n",
    "            optimizer.step()\n",
    "\n",
    "        # Evaluate model!\n",
    "        if epochs%10==0:\n",
    "            predictions, labels = evaluate_model(model, test_dataloader, device)\n",
    "            test_acc = np.mean(np.argmax(predictions.cpu().numpy(), axis=1) == labels.cpu().numpy())\n",
    "            print(f\"Epoch {epoch+1}/{epochs} - test accuracy: {(100 * test_acc):.2f}% and CE loss {loss.item():.2f}\")\n",
    "    return model"
   ]
  },
  {
   "cell_type": "code",
   "execution_count": 18,
   "id": "351125ac-31da-4ff3-9966-8e9df97c9b81",
   "metadata": {},
   "outputs": [
    {
     "name": "stdout",
     "output_type": "stream",
     "text": [
      "Epoch 1/100 - test accuracy: 54.34% and CE loss 1.32\n",
      "Epoch 2/100 - test accuracy: 61.53% and CE loss 0.66\n",
      "Epoch 3/100 - test accuracy: 67.62% and CE loss 0.75\n",
      "Epoch 4/100 - test accuracy: 69.73% and CE loss 0.99\n",
      "Epoch 5/100 - test accuracy: 71.67% and CE loss 0.36\n",
      "Epoch 6/100 - test accuracy: 73.78% and CE loss 0.42\n",
      "Epoch 7/100 - test accuracy: 73.94% and CE loss 0.81\n",
      "Epoch 8/100 - test accuracy: 74.24% and CE loss 0.61\n",
      "Epoch 9/100 - test accuracy: 74.52% and CE loss 0.97\n",
      "Epoch 10/100 - test accuracy: 76.66% and CE loss 0.18\n",
      "Epoch 11/100 - test accuracy: 78.47% and CE loss 1.21\n",
      "Epoch 12/100 - test accuracy: 77.43% and CE loss 1.17\n",
      "Epoch 13/100 - test accuracy: 79.03% and CE loss 0.22\n",
      "Epoch 14/100 - test accuracy: 79.90% and CE loss 0.11\n",
      "Epoch 15/100 - test accuracy: 78.52% and CE loss 0.66\n",
      "Epoch 16/100 - test accuracy: 79.31% and CE loss 0.60\n",
      "Epoch 17/100 - test accuracy: 80.59% and CE loss 0.08\n",
      "Epoch 18/100 - test accuracy: 81.68% and CE loss 0.43\n",
      "Epoch 19/100 - test accuracy: 80.71% and CE loss 0.14\n",
      "Epoch 20/100 - test accuracy: 82.11% and CE loss 0.49\n",
      "Epoch 21/100 - test accuracy: 81.30% and CE loss 0.08\n",
      "Epoch 22/100 - test accuracy: 81.38% and CE loss 0.77\n",
      "Epoch 23/100 - test accuracy: 79.80% and CE loss 0.33\n",
      "Epoch 24/100 - test accuracy: 81.86% and CE loss 1.17\n",
      "Epoch 25/100 - test accuracy: 81.89% and CE loss 0.02\n",
      "Epoch 26/100 - test accuracy: 82.80% and CE loss 0.59\n",
      "Epoch 27/100 - test accuracy: 63.21% and CE loss 1.38\n",
      "Epoch 28/100 - test accuracy: 74.83% and CE loss 1.24\n",
      "Epoch 29/100 - test accuracy: 78.09% and CE loss 0.42\n",
      "Epoch 30/100 - test accuracy: 80.13% and CE loss 0.87\n",
      "Epoch 31/100 - test accuracy: 79.87% and CE loss 0.12\n",
      "Epoch 32/100 - test accuracy: 39.03% and CE loss 1.41\n",
      "Epoch 33/100 - test accuracy: 48.31% and CE loss 2.36\n",
      "Epoch 34/100 - test accuracy: 55.69% and CE loss 1.69\n",
      "Epoch 35/100 - test accuracy: 57.25% and CE loss 1.79\n",
      "Epoch 36/100 - test accuracy: 60.25% and CE loss 1.17\n",
      "Epoch 37/100 - test accuracy: 9.91% and CE loss 2.31\n",
      "Epoch 38/100 - test accuracy: 10.04% and CE loss 2.32\n",
      "Epoch 39/100 - test accuracy: 9.91% and CE loss 2.30\n",
      "Epoch 40/100 - test accuracy: 10.06% and CE loss 2.31\n",
      "Epoch 41/100 - test accuracy: 10.06% and CE loss 2.31\n",
      "Epoch 42/100 - test accuracy: 10.04% and CE loss 2.32\n",
      "Epoch 43/100 - test accuracy: 10.04% and CE loss 2.29\n",
      "Epoch 44/100 - test accuracy: 10.06% and CE loss 2.32\n",
      "Epoch 45/100 - test accuracy: 10.04% and CE loss 2.31\n",
      "Epoch 46/100 - test accuracy: 10.06% and CE loss 2.29\n",
      "Epoch 47/100 - test accuracy: 10.06% and CE loss 2.29\n",
      "Epoch 48/100 - test accuracy: 10.06% and CE loss 2.29\n",
      "Epoch 49/100 - test accuracy: 10.06% and CE loss 2.29\n",
      "Epoch 50/100 - test accuracy: 10.06% and CE loss 2.30\n",
      "Epoch 51/100 - test accuracy: 10.06% and CE loss 2.31\n",
      "Epoch 52/100 - test accuracy: 9.91% and CE loss 2.30\n",
      "Epoch 53/100 - test accuracy: 9.91% and CE loss 2.30\n",
      "Epoch 54/100 - test accuracy: 9.10% and CE loss 2.30\n",
      "Epoch 55/100 - test accuracy: 9.10% and CE loss 2.31\n",
      "Epoch 56/100 - test accuracy: 9.12% and CE loss 2.35\n",
      "Epoch 57/100 - test accuracy: 9.20% and CE loss 2.29\n",
      "Epoch 58/100 - test accuracy: 9.15% and CE loss 2.30\n",
      "Epoch 59/100 - test accuracy: 9.12% and CE loss 2.29\n",
      "Epoch 60/100 - test accuracy: 9.12% and CE loss 2.28\n",
      "Epoch 61/100 - test accuracy: 9.07% and CE loss 2.30\n",
      "Epoch 62/100 - test accuracy: 9.10% and CE loss 2.30\n",
      "Epoch 63/100 - test accuracy: 9.10% and CE loss 2.29\n",
      "Epoch 64/100 - test accuracy: 9.12% and CE loss 2.29\n",
      "Epoch 65/100 - test accuracy: 9.10% and CE loss 2.29\n",
      "Epoch 66/100 - test accuracy: 9.07% and CE loss 2.31\n",
      "Epoch 67/100 - test accuracy: 9.10% and CE loss 2.29\n",
      "Epoch 68/100 - test accuracy: 9.10% and CE loss 2.29\n",
      "Epoch 69/100 - test accuracy: 9.10% and CE loss 2.30\n",
      "Epoch 70/100 - test accuracy: 9.10% and CE loss 2.31\n",
      "Epoch 71/100 - test accuracy: 9.10% and CE loss 2.31\n",
      "Epoch 72/100 - test accuracy: 9.10% and CE loss 2.31\n",
      "Epoch 73/100 - test accuracy: 9.10% and CE loss 2.29\n",
      "Epoch 74/100 - test accuracy: 9.10% and CE loss 2.28\n",
      "Epoch 75/100 - test accuracy: 9.10% and CE loss 2.29\n",
      "Epoch 76/100 - test accuracy: 9.10% and CE loss 2.29\n",
      "Epoch 77/100 - test accuracy: 9.10% and CE loss 2.31\n",
      "Epoch 78/100 - test accuracy: 9.10% and CE loss 2.30\n",
      "Epoch 79/100 - test accuracy: 9.10% and CE loss 2.30\n",
      "Epoch 80/100 - test accuracy: 9.10% and CE loss 2.30\n",
      "Epoch 81/100 - test accuracy: 9.10% and CE loss 2.33\n",
      "Epoch 82/100 - test accuracy: 9.10% and CE loss 2.30\n",
      "Epoch 83/100 - test accuracy: 9.10% and CE loss 2.28\n",
      "Epoch 84/100 - test accuracy: 9.10% and CE loss 2.31\n",
      "Epoch 85/100 - test accuracy: 9.10% and CE loss 2.29\n",
      "Epoch 86/100 - test accuracy: 9.10% and CE loss 2.29\n",
      "Epoch 87/100 - test accuracy: 9.10% and CE loss 2.31\n",
      "Epoch 88/100 - test accuracy: 9.10% and CE loss 2.33\n",
      "Epoch 89/100 - test accuracy: 9.10% and CE loss 2.30\n",
      "Epoch 90/100 - test accuracy: 9.10% and CE loss 2.29\n",
      "Epoch 91/100 - test accuracy: 9.10% and CE loss 2.31\n",
      "Epoch 92/100 - test accuracy: 9.10% and CE loss 2.29\n",
      "Epoch 93/100 - test accuracy: 9.10% and CE loss 2.30\n",
      "Epoch 94/100 - test accuracy: 9.10% and CE loss 2.32\n",
      "Epoch 95/100 - test accuracy: 9.10% and CE loss 2.32\n",
      "Epoch 96/100 - test accuracy: 9.10% and CE loss 2.30\n",
      "Epoch 97/100 - test accuracy: 9.10% and CE loss 2.29\n",
      "Epoch 98/100 - test accuracy: 9.10% and CE loss 2.30\n",
      "Epoch 99/100 - test accuracy: 9.10% and CE loss 2.31\n",
      "Epoch 100/100 - test accuracy: 9.07% and CE loss 2.27\n"
     ]
    }
   ],
   "source": [
    "model_normal = train_model(model = model_normal.to(device), epochs = epochs)"
   ]
  },
  {
   "cell_type": "code",
   "execution_count": 19,
   "id": "0277439d-86d1-4a35-a08f-a927f1573b60",
   "metadata": {},
   "outputs": [
    {
     "name": "stdout",
     "output_type": "stream",
     "text": [
      "Model test accuracy: 9.07%\n"
     ]
    }
   ],
   "source": [
    "# Model to GPU and eval mode.\n",
    "model_normal.to(device)\n",
    "model_normal.eval()\n",
    "\n",
    "# Check test set performance.\n",
    "predictions, labels = evaluate_model(model_normal, test_dataloader, device)\n",
    "test_acc = np.mean(np.argmax(predictions.cpu().numpy(), axis=1) == labels.cpu().numpy())        \n",
    "print(f\"Model test accuracy: {(100 * test_acc):.2f}%\")"
   ]
  },
  {
   "cell_type": "code",
   "execution_count": 20,
   "id": "cc102184-47c1-4374-be78-1897dafecd8f",
   "metadata": {},
   "outputs": [
    {
     "name": "stdout",
     "output_type": "stream",
     "text": [
      "Saving the model: ..\\models\\resnet_imagenette.pth\n"
     ]
    }
   ],
   "source": [
    "from pathlib import Path\n",
    "\n",
    "MODEL_PATH = Path(\"../models\")\n",
    "MODEL_PATH.mkdir(parents=True, exist_ok=True)\n",
    "\n",
    "MODEL_NAME = \"resnet_imagenette.pth\"\n",
    "MODEL_SAVE_PATH = MODEL_PATH / MODEL_NAME\n",
    "\n",
    "print(f\"Saving the model: {MODEL_SAVE_PATH}\")\n",
    "torch.save(obj=model_normal.state_dict(), f=MODEL_SAVE_PATH)"
   ]
  },
  {
   "cell_type": "code",
   "execution_count": null,
   "id": "fa6dd9d7-b920-4478-9390-866361d3b4f2",
   "metadata": {},
   "outputs": [],
   "source": []
  }
 ],
 "metadata": {
  "kernelspec": {
   "display_name": "Python 3 (ipykernel)",
   "language": "python",
   "name": "python3"
  },
  "language_info": {
   "codemirror_mode": {
    "name": "ipython",
    "version": 3
   },
   "file_extension": ".py",
   "mimetype": "text/x-python",
   "name": "python",
   "nbconvert_exporter": "python",
   "pygments_lexer": "ipython3",
   "version": "3.13.5"
  }
 },
 "nbformat": 4,
 "nbformat_minor": 5
}
